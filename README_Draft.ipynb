{
 "cells": [
  {
   "cell_type": "markdown",
   "metadata": {},
   "source": [
    "# A Data Science Framework for the Analysis of Ion Transport Mechanisms in Ionic Liquids\n",
    "\n",
    "## Introduction\n",
    "\n",
    "Here, we provide the scripts used to model and analyze ionic liquid conductivity using the Nernst-Einstein hydrodynamic transport model, the modified Arrhenius kinetic transport model, t-stochastic neighbor embedding (t-SNE) dimensionality reduction, and machine learning modeling with various forms of chemical information inputs (molecular connectivity, 3D moleculear descriptors, and bulk properties). We provide a framework for analyzing poorly-understood ionic liquid proprties using easily accessible chemical information. In this work, we first contrast the accuracies of the Nernst-Einstein model and modified Arrhenius model predictions to understand which mechanistic model best describes ion transport in ionic liquids. We then use t-SNE to project ionic liquid molecular structure into a visualizable 2D latent space and analyze structure-conductivity relationships. Finally, we use machine learning models to test the our ability to predict ionic liquid conductivity using common chemical descriptors, and we analyze our models to identify which molecular descriptors and bulk properties most influence ion transport.\n",
    "\n",
    "The databases we created for this analysis can be found in the `Databases` folder and combines **RDKit** descriptors for simulated single ions, reported **PubChem** molecular descriptors, and experimentally measured bulk properties from **ILThermo**. Multiple datasests are available for the various ionic liquid properties modeled; however our primary database of interest for conductivity contains *2,371* temperature dependent data points for *218* ionic liquids. Tutorials for our framework and results can be found in the `Jupyter Notebooks` folder.\n",
    "\n",
    "<br />\n",
    "\n",
    "> Features\n",
    "\n",
    "- `Data science framework` for analyzing ionic liquid properties\n",
    "- `Databases` from RDKit, PubChem, and ILThermo containing properties and molecular descriptors for **218** ionic liquids and **2,371** temperature dependent data points\n",
    "- `Bulk property  predictions` for ionic liquids given their **SMILES strings** and **RDKit Simulations**\n",
    "- `Descriptor analysis` to evaluate predictive capabilities and identify underlying ion transport mechanisms\n",
    "- `Classical model analyses` to contraist ion transport mechanisms in ionic liquids\n",
    "\n",
    "> Publication\n",
    "\n",
    "- 👉 [Submitted Paper](Link)\n",
    "\n",
    "<br />\n",
    "\n",
    "## Sample Outputs\n",
    "\n",
    "<br />\n",
    "\n",
    "> Classical modeling (Nernst-Einstein, modified Arrhneius)\n",
    "\n",
    "<br />\n",
    "<img src=\"./Figures/Readme_Model Fits.png\" /> \n",
    "<br />\n",
    "<br />\n",
    "\n",
    "> t-SNE property mapping\n",
    "<br />\n",
    "\n",
    "<img src=\"./Figures/Readme_Six t-SNE Properties White.png\" />\n",
    "\n",
    "<br />\n",
    "\n",
    "## Tutorials\n",
    "\n",
    "For detailed usage, navigate to the `notebook` directory.\n",
    "\n",
    "\n",
    "## Links\n",
    "\n",
    "- [Zavalab](https://zavalab.engr.wisc.edu/)\n",
    "- [Gebbie Lab](https://interfaces.che.wisc.edu/)\n",
    "- [RDKit](https://github.com/rdkit/rdkit)\n",
    "- [PubChem 3D](https://pubchem.ncbi.nlm.nih.gov/docs/pubchem3d)\n",
    "- [IL Thermo](https://ilthermo.boulder.nist.gov/)\n",
    "\n",
    "<br />"
   ]
  },
  {
   "cell_type": "markdown",
   "metadata": {},
   "source": []
  }
 ],
 "metadata": {
  "language_info": {
   "name": "python"
  }
 },
 "nbformat": 4,
 "nbformat_minor": 2
}
